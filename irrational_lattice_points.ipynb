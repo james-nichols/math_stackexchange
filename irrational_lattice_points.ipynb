{
 "cells": [
  {
   "cell_type": "markdown",
   "metadata": {},
   "source": [
    "# Finding the proportion of irrational length line segments between all points on an integer lattice\n",
    "\n",
    "Concerning [this question in math.stackexchange](https://math.stackexchange.com/questions/2449336/line-segments-of-irrational-length-on-the-lattice/).\n",
    "\n",
    "Here I've taken a guess on the number of Pythagorean triples in the $n\\times n$ lattice as\n",
    "$$\n",
    "\\sum_{k=1}^{n-1} 4 (n-k) L(k) \n",
    "$$\n",
    "the rationalle being - for a leg of length $k$, there can be $(n-k)$ places to put it laterally, and then 4 is a sloppy estimation for the rotational symmetry of this problem. There's a lot of overlaps. Evidently it's not going to work."
   ]
  },
  {
   "cell_type": "code",
   "execution_count": 44,
   "metadata": {
    "scrolled": true
   },
   "outputs": [
    {
     "name": "stdout",
     "output_type": "stream",
     "text": [
      "n \t Total cnx \t Int-len count \t Int-len calc \t Diags calc \t Straights calc\n",
      "2 \t 6 \t\t 4 \t\t 4 \t\t 0 \t\t 4\n",
      "3 \t 36 \t\t 18 \t\t 18 \t\t 0 \t\t 18\n",
      "4 \t 120 \t\t 48 \t\t 49 \t\t 1 \t\t 48\n",
      "5 \t 300 \t\t 108 \t\t 105 \t\t 5 \t\t 100\n",
      "6 \t 630 \t\t 204 \t\t 194 \t\t 14 \t\t 180\n",
      "7 \t 1176 \t\t 342 \t\t 324 \t\t 30 \t\t 294\n",
      "8 \t 2016 \t\t 528 \t\t 503 \t\t 55 \t\t 448\n",
      "9 \t 3240 \t\t 780 \t\t 740 \t\t 92 \t\t 648\n",
      "10 \t 4950 \t\t 1100 \t\t 1045 \t\t 145 \t\t 900\n",
      "11 \t 7260 \t\t 1494 \t\t 1427 \t\t 217 \t\t 1210\n",
      "12 \t 10296 \t\t 1968 \t\t 1894 \t\t 310 \t\t 1584\n",
      "13 \t 14196 \t\t 2576 \t\t 2457 \t\t 429 \t\t 2028\n"
     ]
    }
   ],
   "source": [
    "import numpy as np\n",
    "import primefac\n",
    "import math\n",
    "\n",
    "def count_num_squares(n):\n",
    "    # This does a brute force count for an n x n lattice\n",
    "    num_sq = 0\n",
    "    \n",
    "    for i in range(n):\n",
    "        for j in range(n):\n",
    "            for k in range(n):\n",
    "                for l in range(n):\n",
    "                    # The distance between the point (i,j) and (k,l)\n",
    "                    dist_sq = (k-i)*(k-i) + (l-j)*(l-j)\n",
    "                    dist = np.sqrt(dist_sq)\n",
    "                    num_sq += (dist_sq == int(dist)*int(dist))\n",
    "                    \n",
    "    return (num_sq - n*n) // 2 # (we subtract n*n because we've counted the singletons... i.e. 0 length)\n",
    "        \n",
    "def L_prim(k):\n",
    "    # Find the number of primitive pythagorean triples that k is a leg of\n",
    "    pf = primefact.factorint(k)\n",
    "\n",
    "    if pf[2] % 2 == 0:\n",
    "        return 0\n",
    "    \n",
    "    return len(pf)\n",
    "\n",
    "def L(k):\n",
    "    # Find the number of primitive *and* non-primitive pythagorean triples that k could be a member of\n",
    "    pf = primefac.factorint(k)\n",
    "    \n",
    "    res = 1.0\n",
    "    if pf.get(2,0) > 0:\n",
    "        res *= (2*pf[2] - 1)\n",
    "        del pf[2]\n",
    "        \n",
    "    for a in pf:\n",
    "        res *= (2*pf[a] + 1)\n",
    "\n",
    "    return (res - 1) // 2\n",
    "\n",
    "def calc_num_pyth_squares(n):\n",
    "    # This uses the L above to do the counting\n",
    "    num_sq = 0\n",
    "    \n",
    "    for k in range(n):\n",
    "        num_sq += L(k) * (n - k) * (n-k)\n",
    "    \n",
    "    return num_sq\n",
    "\n",
    "def calc_num_flat(n):\n",
    "    return n * (n-1) * n\n",
    "\n",
    "print('n \\t Total cnx \\t Int-len count \\t Int-len calc \\t Diags calc \\t Straights calc')\n",
    "for n in range(2,14):\n",
    "    print('{:d} \\t {:d} \\t\\t {} \\t\\t {:d} \\t\\t {:d} \\t\\t {:d}'.format(n, n*n*(n*n-1)//2, count_num_squares(n), int(calc_num_pyth_squares(n) + calc_num_flat(n)), int(calc_num_pyth_squares(n)),  calc_num_flat(n) ))"
   ]
  },
  {
   "cell_type": "markdown",
   "metadata": {},
   "source": [
    "Ideally in the results above we want ```Int-len calc``` to be the same as ```Int-len count``` (stands for integer-length counted). This is made up of the straight-connections that are calculated in the last column (which seems to be correct) and the diagonals in the second last column, where we use the $L(s)$ function [defined here](http://mathworld.wolfram.com/PythagoreanTriple.html) in a heuristic way to approximate the number of Pythagorean triples that would fit in the $n\\times n$ lattice. Sometimes this approach gets it right but usually not."
   ]
  },
  {
   "cell_type": "code",
   "execution_count": null,
   "metadata": {
    "collapsed": true
   },
   "outputs": [],
   "source": []
  }
 ],
 "metadata": {
  "kernelspec": {
   "display_name": "Python 3",
   "language": "python",
   "name": "python3"
  },
  "language_info": {
   "codemirror_mode": {
    "name": "ipython",
    "version": 3
   },
   "file_extension": ".py",
   "mimetype": "text/x-python",
   "name": "python",
   "nbconvert_exporter": "python",
   "pygments_lexer": "ipython3",
   "version": "3.6.1"
  }
 },
 "nbformat": 4,
 "nbformat_minor": 2
}
